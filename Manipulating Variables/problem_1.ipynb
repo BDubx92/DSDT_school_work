{
 "cells": [
  {
   "cell_type": "code",
   "execution_count": null,
   "id": "a5d319c0",
   "metadata": {},
   "outputs": [
    {
     "name": "stdout",
     "output_type": "stream",
     "text": [
      "The total cost of cup of Coffee and a Pastry is $11.3\n"
     ]
    }
   ],
   "source": [
    "cost_of_coffee = input(\"What is the cost of a cup of coffee?\") #defines coffee cost\n",
    "cost_of_pasty = input(\"What is the cost of a pasty?\") #defines pasty cost\n",
    "\n",
    "my_total = float(cost_of_coffee) + float(cost_of_pasty) #calculates total cost to include decimals\n",
    "print(\"The total cost of cup of Coffee and a Pastry is \" +(\"$\" + str(my_total))) \n"
   ]
  }
 ],
 "metadata": {
  "kernelspec": {
   "display_name": "Python 3",
   "language": "python",
   "name": "python3"
  },
  "language_info": {
   "codemirror_mode": {
    "name": "ipython",
    "version": 3
   },
   "file_extension": ".py",
   "mimetype": "text/x-python",
   "name": "python",
   "nbconvert_exporter": "python",
   "pygments_lexer": "ipython3",
   "version": "3.12.1"
  }
 },
 "nbformat": 4,
 "nbformat_minor": 5
}
