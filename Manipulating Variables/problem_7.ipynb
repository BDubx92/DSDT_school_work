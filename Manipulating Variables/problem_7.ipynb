{
 "cells": [
  {
   "cell_type": "code",
   "execution_count": 3,
   "id": "bbb14124",
   "metadata": {},
   "outputs": [
    {
     "name": "stdout",
     "output_type": "stream",
     "text": [
      "The total cost of paint for your room is: $ 455.0\n"
     ]
    }
   ],
   "source": [
    "square_foot = float(input(\"Enter the square footage of the room: \")) # square footage of room\n",
    "cost_of_paint = float(input((\"What is the cost of your paint?\"))) # cost of paint \n",
    "total_cost = square_foot * cost_of_paint # computing the total cost of paint\n",
    "print(\"The total cost of paint for your room is: $\", total_cost)\n",
    "\n"
   ]
  }
 ],
 "metadata": {
  "kernelspec": {
   "display_name": "Python 3",
   "language": "python",
   "name": "python3"
  },
  "language_info": {
   "codemirror_mode": {
    "name": "ipython",
    "version": 3
   },
   "file_extension": ".py",
   "mimetype": "text/x-python",
   "name": "python",
   "nbconvert_exporter": "python",
   "pygments_lexer": "ipython3",
   "version": "3.12.1"
  }
 },
 "nbformat": 4,
 "nbformat_minor": 5
}
