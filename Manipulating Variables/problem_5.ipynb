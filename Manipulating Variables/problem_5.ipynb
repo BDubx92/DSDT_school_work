{
 "cells": [
  {
   "cell_type": "code",
   "execution_count": null,
   "id": "de6de690",
   "metadata": {},
   "outputs": [
    {
     "name": "stdout",
     "output_type": "stream",
     "text": [
      "Each person will get a total of 50.0 slices of pizza.\n"
     ]
    }
   ],
   "source": [
    "number_of_pizzas = input(\"How many pizzas do you want to order?\") # number of pizzas\n",
    "number_of_slices = input(\"How many slices are in each pizza?\") # number of slices per pizza\n",
    "number_of_people = input(\"How many people are there?\") # number of people\n",
    "total_slices = int(number_of_pizzas) * int(number_of_slices) # total slices to pizzas \n",
    "print(\"Each person will get a total of \" + str(total_slices / int(number_of_people)) + \" slices of pizza.\")"
   ]
  },
  {
   "cell_type": "markdown",
   "id": "61c96626",
   "metadata": {},
   "source": []
  }
 ],
 "metadata": {
  "kernelspec": {
   "display_name": "Python 3",
   "language": "python",
   "name": "python3"
  },
  "language_info": {
   "codemirror_mode": {
    "name": "ipython",
    "version": 3
   },
   "file_extension": ".py",
   "mimetype": "text/x-python",
   "name": "python",
   "nbconvert_exporter": "python",
   "pygments_lexer": "ipython3",
   "version": "3.12.1"
  }
 },
 "nbformat": 4,
 "nbformat_minor": 5
}
