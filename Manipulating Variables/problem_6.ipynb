{
 "cells": [
  {
   "cell_type": "code",
   "execution_count": null,
   "id": "1512e71d",
   "metadata": {},
   "outputs": [
    {
     "name": "stdout",
     "output_type": "stream",
     "text": [
      "Your pay will be: $ 50\n"
     ]
    }
   ],
   "source": [
    "hourly_wage = int(input(\"Enter your hourly wage: \")) # hour rate of employee\n",
    "hours_worked = int(input(\"Enter number of hours you will work this week: \")) # hours worked in a week\n",
    "weekly_pay = hourly_wage * hours_worked #computing the total\n",
    "print(\"Your pay will be: $\",weekly_pay)"
   ]
  }
 ],
 "metadata": {
  "kernelspec": {
   "display_name": "Python 3",
   "language": "python",
   "name": "python3"
  },
  "language_info": {
   "codemirror_mode": {
    "name": "ipython",
    "version": 3
   },
   "file_extension": ".py",
   "mimetype": "text/x-python",
   "name": "python",
   "nbconvert_exporter": "python",
   "pygments_lexer": "ipython3",
   "version": "3.12.1"
  }
 },
 "nbformat": 4,
 "nbformat_minor": 5
}
