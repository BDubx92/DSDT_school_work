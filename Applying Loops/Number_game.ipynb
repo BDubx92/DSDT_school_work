{
 "cells": [
  {
   "cell_type": "code",
   "execution_count": 1,
   "id": "f5e35498",
   "metadata": {},
   "outputs": [
    {
     "name": "stdout",
     "output_type": "stream",
     "text": [
      "Attempt 1: You have 4 attempts left.\n",
      "Too high!\n",
      "Attempt 2: You have 3 attempts left.\n",
      "Too high!\n",
      "Attempt 3: You have 2 attempts left.\n",
      "Too high!\n",
      "Attempt 4: You have 1 attempts left.\n",
      "Congratulations! You've guessed the number 10 in 4 attempts.\n"
     ]
    }
   ],
   "source": [
    "\n",
    "import random\n",
    "\n",
    "random_number = random.randint(1, 100)\n",
    "attempts = 0\n",
    "while True:\n",
    "    guess = input(\"Hello! Please choose a number between 1 and 100\")\n",
    "    attempts += 1\n",
    "    \n",
    "    if not guess.isdigit():\n",
    "        print(\"Please enter a valid number.\")\n",
    "        continue\n",
    "    \n",
    "    guess = int(guess)\n",
    "\n",
    "    if attempts < 5:\n",
    "        print(f\"Attempt {attempts}: You have {5 - attempts} attempts left.\")\n",
    "    else:\n",
    "        print(\"You have used all your attempts. Game over!\")\n",
    "        break\n",
    "    \n",
    "    if guess < random_number:\n",
    "        print(\"Too low!\")\n",
    "    elif guess > random_number:\n",
    "        print(\"Too high!\")\n",
    "    else:\n",
    "        print(f\"Congratulations! You've guessed the number {random_number} in {attempts} attempts.\")\n",
    "        break\n",
    "\n",
    "\n",
    "\n",
    "\n"
   ]
  }
 ],
 "metadata": {
  "kernelspec": {
   "display_name": "Python 3",
   "language": "python",
   "name": "python3"
  },
  "language_info": {
   "codemirror_mode": {
    "name": "ipython",
    "version": 3
   },
   "file_extension": ".py",
   "mimetype": "text/x-python",
   "name": "python",
   "nbconvert_exporter": "python",
   "pygments_lexer": "ipython3",
   "version": "3.12.1"
  }
 },
 "nbformat": 4,
 "nbformat_minor": 5
}
