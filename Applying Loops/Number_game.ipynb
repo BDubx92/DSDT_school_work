{
 "cells": [
  {
   "cell_type": "code",
   "execution_count": null,
   "id": "f5e35498",
   "metadata": {},
   "outputs": [],
   "source": [
    "\n",
    "import random       #generates the random number\n",
    "\n",
    "random_number = random.randint(1, 100) #sets the range of numbers\n",
    "attempts = 0\n",
    "while True:       #welcome and atempt counter\n",
    "    guess = input(\"Hello! Please choose a number between 1 and 100\")\n",
    "    attempts += 1 \n",
    "    \n",
    "    if not guess.isdigit(): #checks the number entered \n",
    "        print(\"Please enter a valid number.\")\n",
    "        continue\n",
    "    \n",
    "    guess = int(guess)  #converts our input to an integer\n",
    "\n",
    "    if attempts < 5: #our counter for number of atempts/also the error message of failure\n",
    "        print(f\"Attempt {attempts}: You have {5 - attempts} attempts left.\")\n",
    "    else:\n",
    "        print(\"You have used all your attempts. Game over!\")\n",
    "        break\n",
    "    # the helping hand for guessing the number\n",
    "    if guess < random_number:\n",
    "        print(\"Too low!\")\n",
    "    elif guess > random_number:\n",
    "        print(\"Too high!\")\n",
    "\n",
    "        #the victory\n",
    "    else:\n",
    "        print(f\"Congratulations! You've guessed the number {random_number} in {attempts} attempts.\")\n",
    "        break\n",
    "\n",
    "\n",
    "\n",
    "\n"
   ]
  }
 ],
 "metadata": {
  "kernelspec": {
   "display_name": "Python 3",
   "language": "python",
   "name": "python3"
  },
  "language_info": {
   "codemirror_mode": {
    "name": "ipython",
    "version": 3
   },
   "file_extension": ".py",
   "mimetype": "text/x-python",
   "name": "python",
   "nbconvert_exporter": "python",
   "pygments_lexer": "ipython3",
   "version": "3.12.1"
  }
 },
 "nbformat": 4,
 "nbformat_minor": 5
}
