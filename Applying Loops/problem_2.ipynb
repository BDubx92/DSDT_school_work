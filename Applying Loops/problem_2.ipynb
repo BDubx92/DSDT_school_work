{
 "cells": [
  {
   "cell_type": "code",
   "execution_count": 1,
   "id": "84bc589c",
   "metadata": {},
   "outputs": [
    {
     "name": "stdout",
     "output_type": "stream",
     "text": [
      "the time taken to travel the distance is 0.6666666666666666 hours\n"
     ]
    }
   ],
   "source": [
    "distance_traveled = input (\"what is the distance traveled, in miles?\") #requesting distance\n",
    "Speed = input (\"what will be your speed, in miles per hour?\") #requesting speed\n",
    "time = float(distance_traveled) / float(Speed) #calculaction of the time\n",
    "print (\"the time taken to travel the distance is\" , time , \"hours\")"
   ]
  }
 ],
 "metadata": {
  "kernelspec": {
   "display_name": "Python 3",
   "language": "python",
   "name": "python3"
  },
  "language_info": {
   "codemirror_mode": {
    "name": "ipython",
    "version": 3
   },
   "file_extension": ".py",
   "mimetype": "text/x-python",
   "name": "python",
   "nbconvert_exporter": "python",
   "pygments_lexer": "ipython3",
   "version": "3.12.1"
  }
 },
 "nbformat": 4,
 "nbformat_minor": 5
}
