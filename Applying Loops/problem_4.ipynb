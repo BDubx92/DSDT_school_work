{
 "cells": [
  {
   "cell_type": "code",
   "execution_count": 1,
   "id": "bafdb736",
   "metadata": {},
   "outputs": [
    {
     "name": "stdout",
     "output_type": "stream",
     "text": [
      "You are 33 years old.\n"
     ]
    }
   ],
   "source": [
    "current_year = input(\"What is the current year?\") # current year\n",
    "birth_year = input(\"What year were you born?\") # birth year\n",
    "age = int(current_year) - int(birth_year)# users age\n",
    "print(\"You are \" + str(age) + \" years old.\") \n"
   ]
  }
 ],
 "metadata": {
  "kernelspec": {
   "display_name": "Python 3",
   "language": "python",
   "name": "python3"
  },
  "language_info": {
   "codemirror_mode": {
    "name": "ipython",
    "version": 3
   },
   "file_extension": ".py",
   "mimetype": "text/x-python",
   "name": "python",
   "nbconvert_exporter": "python",
   "pygments_lexer": "ipython3",
   "version": "3.12.1"
  }
 },
 "nbformat": 4,
 "nbformat_minor": 5
}
