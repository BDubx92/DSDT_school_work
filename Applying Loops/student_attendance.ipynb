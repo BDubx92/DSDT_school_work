{
 "cells": [
  {
   "cell_type": "code",
   "execution_count": 3,
   "id": "09e5801c",
   "metadata": {},
   "outputs": [
    {
     "name": "stdout",
     "output_type": "stream",
     "text": [
      "Names entered: ['fhh', 'sthsgh', 'tsrhsrh', 'srthh']\n"
     ]
    }
   ],
   "source": [
    "names = []                                                      # empty list\n",
    "\n",
    "while True:                                                     # the loop\n",
    "    name = input(\"Enter a name (or type 'done' to finish) \")   # input from user\n",
    "\n",
    "    if name.lower() == 'done':                                  # ending the loop\n",
    "        break  \n",
    "    else:\n",
    "        names.append(name)                                      # adding the name to the empty list\n",
    "\n",
    "print(\"Names entered:\", names)  \n",
    "\n"
   ]
  }
 ],
 "metadata": {
  "kernelspec": {
   "display_name": "Python 3",
   "language": "python",
   "name": "python3"
  },
  "language_info": {
   "codemirror_mode": {
    "name": "ipython",
    "version": 3
   },
   "file_extension": ".py",
   "mimetype": "text/x-python",
   "name": "python",
   "nbconvert_exporter": "python",
   "pygments_lexer": "ipython3",
   "version": "3.12.1"
  }
 },
 "nbformat": 4,
 "nbformat_minor": 5
}
