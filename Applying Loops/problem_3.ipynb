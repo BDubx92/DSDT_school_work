{
 "cells": [
  {
   "cell_type": "code",
   "execution_count": 1,
   "id": "e853cc1e",
   "metadata": {},
   "outputs": [
    {
     "name": "stdout",
     "output_type": "stream",
     "text": [
      "The total cost of the notebook, pens, and backpack is $20.5\n"
     ]
    }
   ],
   "source": [
    "price_of_notebook = input(\"What is the price of the notebook?\") # notebook price\n",
    "price_of_pens = input(\"What is the price of the pens?\") # pen price\n",
    "price_of_backpack = input(\"What is the price of the backpack?\") # backpack price\n",
    "total_price = float(price_of_notebook) + float(price_of_pens) + float(price_of_backpack) # total cost of all items\n",
    "print(\"The total cost of the notebook, pens, and backpack is \" +(\"$\" + str(total_price)))"
   ]
  }
 ],
 "metadata": {
  "kernelspec": {
   "display_name": "Python 3",
   "language": "python",
   "name": "python3"
  },
  "language_info": {
   "codemirror_mode": {
    "name": "ipython",
    "version": 3
   },
   "file_extension": ".py",
   "mimetype": "text/x-python",
   "name": "python",
   "nbconvert_exporter": "python",
   "pygments_lexer": "ipython3",
   "version": "3.12.1"
  }
 },
 "nbformat": 4,
 "nbformat_minor": 5
}
