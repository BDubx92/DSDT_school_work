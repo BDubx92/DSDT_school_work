{
 "cells": [
  {
   "cell_type": "code",
   "execution_count": null,
   "id": "d1c38b8a",
   "metadata": {},
   "outputs": [],
   "source": [
    "class Collar:\n",
    "    def __init__(self, name_string, size, is_tracked):\n",
    "        self.name_string = name_string\n",
    "        self.size = size\n",
    "        self.is_tracked = is_tracked\n",
    "\n",
    "    def __str__(self):\n",
    "        return f\"Collar(name='{self.name_string}', size={self.size}, tracked={self.is_tracked})\"\n",
    "\n",
    "class Pet:\n",
    "    def __init__(self, pet_name, species, collar):\n",
    "        self.pet_name = pet_name\n",
    "        self.species = species\n",
    "        self.collar = collar\n",
    "\n",
    "    def __str__(self):\n",
    "        return f\"{self.species} named {self.pet_name} with {self.collar}\"\n",
    "\n",
    "class Person:\n",
    "    def __init__(self, name, pet):\n",
    "        self.name = name\n",
    "        self.pet = pet\n",
    "\n",
    "    def describe(self):\n",
    "        print(f\"{self.name} has a pet: {self.pet}\")\n",
    "\n",
    "\n",
    "\n",
    "# Create a Collar\n",
    "my_collar = Collar(name_string=\"Sparkly Collar\", size=\"Medium\", is_tracked=True)\n",
    "\n",
    "# Create a Pet with the collar\n",
    "my_pet = Pet(pet_name=\"Fluffy\", species=\"Cat\", collar=my_collar)\n",
    "\n",
    "# Create a Person with the pet\n",
    "person = Person(name=\"Alice\", pet=my_pet)\n",
    "\n",
    "\n"
   ]
  }
 ],
 "metadata": {
  "kernelspec": {
   "display_name": "Python 3",
   "language": "python",
   "name": "python3"
  },
  "language_info": {
   "codemirror_mode": {
    "name": "ipython",
    "version": 3
   },
   "file_extension": ".py",
   "mimetype": "text/x-python",
   "name": "python",
   "nbconvert_exporter": "python",
   "pygments_lexer": "ipython3",
   "version": "3.12.1"
  }
 },
 "nbformat": 4,
 "nbformat_minor": 5
}
