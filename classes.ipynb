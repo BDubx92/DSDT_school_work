{
 "cells": [
  {
   "cell_type": "code",
   "execution_count": 2,
   "id": "b351de94",
   "metadata": {},
   "outputs": [],
   "source": [
    "class Dog:\n",
    "    def __init__(self, name):\n",
    "        self.name = name\n",
    "        self.speed = 0\n",
    "    \n",
    "    def bark(self):\n",
    "        print(f\"{self.name} says: Woof!\")\n",
    "    \n",
    "    def run(self):\n",
    "        self.speed = 30\n",
    "        print(f\"{self.name} is now running at {self.speed} mph.\")\n",
    "    \n",
    "    def fetch(self, item):\n",
    "        print(f\"{self.name} is fetching the {item}!\")\n",
    "\n",
    "class Cat:\n",
    "    def __init__(self, name):\n",
    "        self.name = name\n",
    "        self.speed = 0\n",
    "    \n",
    "    def meow(self):\n",
    "        print(f\"{self.name} says: Meow!\")\n",
    "    \n",
    "    def run(self):\n",
    "        self.speed = 30\n",
    "        print(f\"{self.name} is now running at {self.speed} mph.\")\n",
    "    \n",
    "    def scratch(self, object):\n",
    "        print(f\"{self.name} is scratching the {object}!\")\n"
   ]
  }
 ],
 "metadata": {
  "kernelspec": {
   "display_name": "Python 3",
   "language": "python",
   "name": "python3"
  },
  "language_info": {
   "codemirror_mode": {
    "name": "ipython",
    "version": 3
   },
   "file_extension": ".py",
   "mimetype": "text/x-python",
   "name": "python",
   "nbconvert_exporter": "python",
   "pygments_lexer": "ipython3",
   "version": "3.12.1"
  }
 },
 "nbformat": 4,
 "nbformat_minor": 5
}
