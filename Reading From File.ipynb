{
 "cells": [
  {
   "cell_type": "code",
   "execution_count": null,
   "id": "afc4e57e",
   "metadata": {},
   "outputs": [],
   "source": [
    "file_path = \"/workspaces/DSDT_school_work/home_loan_complaints-2 (1) (2).csv\"\n",
    "\n",
    "#our CSV file path, Csv is a line by line text file."
   ]
  },
  {
   "cell_type": "code",
   "execution_count": null,
   "id": "b2eeb2a9",
   "metadata": {},
   "outputs": [],
   "source": [
    "from pandas import read_csv\n",
    "read_csv(file_path)\n",
    "\n",
    "#reading and displaying the csv"
   ]
  },
  {
   "cell_type": "code",
   "execution_count": null,
   "id": "8735122e",
   "metadata": {},
   "outputs": [],
   "source": [
    "from json import load\n"
   ]
  },
  {
   "cell_type": "code",
   "execution_count": null,
   "id": "387b43e8",
   "metadata": {},
   "outputs": [],
   "source": [
    "file_path_1 = \"/workspaces/DSDT_school_work/ex_file (2).json\"\n",
    "#here we are setting its path for our pointer"
   ]
  },
  {
   "cell_type": "code",
   "execution_count": null,
   "id": "dc9fe8d9",
   "metadata": {},
   "outputs": [],
   "source": [
    "file_pointer_1 = open(file_path_1)\n",
    "\n",
    "load(file_pointer_1)\n",
    "\n",
    "#this is calling the info from the JSON"
   ]
  }
 ],
 "metadata": {
  "kernelspec": {
   "display_name": "Python 3",
   "language": "python",
   "name": "python3"
  },
  "language_info": {
   "codemirror_mode": {
    "name": "ipython",
    "version": 3
   },
   "file_extension": ".py",
   "mimetype": "text/x-python",
   "name": "python",
   "nbconvert_exporter": "python",
   "pygments_lexer": "ipython3",
   "version": "3.12.1"
  }
 },
 "nbformat": 4,
 "nbformat_minor": 5
}
