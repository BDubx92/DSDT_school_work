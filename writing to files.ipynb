{
 "cells": [
  {
   "cell_type": "code",
   "execution_count": null,
   "id": "15007a78",
   "metadata": {},
   "outputs": [],
   "source": [
    "import json\n",
    "\n",
    "\n",
    "people = [\n",
    "    {\"name\": \"Brennen\", \"age\": 33, \"pet\": \"Cat\"},\n",
    "    {\"name\": \"Lincoln\", \"age\": 7, \"pet\": \"Dog\"},\n",
    "    {\"name\": \"Maylee\", \"age\": 4, \"pet\": \"Parrot\"}]\n",
    "\n",
    "with open(\"people_data.json\", \"w\") as json_file:\n",
    "    json.dump(people, json_file, indent=4)\n",
    "\n",
    "\n",
    "with open(\"example_text.txt\", \"w\") as txt_file:\n",
    "    txt_file.write(\"This is the first sentence in the file.\\n\")\n",
    "\n",
    "\n",
    "with open(\"example_text.txt\", \"a\") as txt_file:\n",
    "    txt_file.write(\"This is an additional sentence added later.\\n\")\n"
   ]
  }
 ],
 "metadata": {
  "kernelspec": {
   "display_name": "Python 3",
   "language": "python",
   "name": "python3"
  },
  "language_info": {
   "codemirror_mode": {
    "name": "ipython",
    "version": 3
   },
   "file_extension": ".py",
   "mimetype": "text/x-python",
   "name": "python",
   "nbconvert_exporter": "python",
   "pygments_lexer": "ipython3",
   "version": "3.12.1"
  }
 },
 "nbformat": 4,
 "nbformat_minor": 5
}
