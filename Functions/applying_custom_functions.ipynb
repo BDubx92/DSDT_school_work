{
 "cells": [
  {
   "cell_type": "code",
   "execution_count": null,
   "id": "fb168f93",
   "metadata": {},
   "outputs": [],
   "source": [
    "def sunny_activity(temperature):\n",
    "    if temperature >= 70:\n",
    "        return \"its a sunny day [name], lets go play outside!\"\n",
    "\n",
    "#This function is used for sunny weather above 70 degrees."
   ]
  },
  {
   "cell_type": "code",
   "execution_count": null,
   "id": "1e5af055",
   "metadata": {},
   "outputs": [],
   "source": [
    "def rainy_activity(temperature):\n",
    "    if temperature < 70 and temperature >= 30:\n",
    "        return \"its a rainy day [name], lets stay inside and play video games!\"\n",
    "    \n",
    "#This function is used for rainy weather between 30 and 70 degrees."
   ]
  },
  {
   "cell_type": "code",
   "execution_count": null,
   "id": "6a69d08f",
   "metadata": {},
   "outputs": [],
   "source": [
    "def snowy_activity(temperature):\n",
    "    if temperature < 30:\n",
    "        return \"its a snowy day [name], lets stay inside and drink hot chocolate!\"\n",
    "    \n",
    "#This function is used for snowy weather below 30 degrees."
   ]
  },
  {
   "cell_type": "code",
   "execution_count": null,
   "id": "cfb404d7",
   "metadata": {},
   "outputs": [],
   "source": [
    "def activity_suggestion(temperature, name):\n",
    "    if temperature >= 70:\n",
    "        return sunny_activity(temperature).replace(\"[name]\", name)\n",
    "    elif temperature < 70 and temperature >= 30:\n",
    "        return rainy_activity(temperature).replace(\"[name]\", name)\n",
    "    else:\n",
    "        return snowy_activity(temperature).replace(\"[name]\", name)\n",
    "    \n",
    "#this function combines the previous ones/comapres the temp and returns the value\n"
   ]
  },
  {
   "cell_type": "code",
   "execution_count": null,
   "id": "b579e6e8",
   "metadata": {},
   "outputs": [],
   "source": [
    "user_name = input(\"Enter your name: \")\n",
    "temperature = int(input(\"Enter the temperature: \"))\n",
    "suggestion = activity_suggestion(temperature, user_name)\n",
    "print(suggestion)\n",
    "\n",
    "#this will ask the user for their temperature and name\n",
    "# and return the appropriate activity suggestion based on the weather conditions."
   ]
  }
 ],
 "metadata": {
  "kernelspec": {
   "display_name": "Python 3",
   "language": "python",
   "name": "python3"
  },
  "language_info": {
   "codemirror_mode": {
    "name": "ipython",
    "version": 3
   },
   "file_extension": ".py",
   "mimetype": "text/x-python",
   "name": "python",
   "nbconvert_exporter": "python",
   "pygments_lexer": "ipython3",
   "version": "3.12.1"
  }
 },
 "nbformat": 4,
 "nbformat_minor": 5
}
