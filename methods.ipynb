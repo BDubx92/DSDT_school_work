{
 "cells": [
  {
   "cell_type": "code",
   "execution_count": null,
   "id": "a938711a",
   "metadata": {},
   "outputs": [],
   "source": [
    "# Base class\n",
    "class Living_Things:\n",
    "    def __init__(self):\n",
    "        self.size = 0.1  # initialized for all living things\n",
    "    \n",
    "    def grow(self):\n",
    "        self.size *= 2  # doubles the size\n",
    "        print(f\"Size doubled to {self.size}\")\n",
    "\n",
    "# Plant class inherit\n",
    "class Plant(Living_Things):\n",
    "    def __init__(self):\n",
    "        super().__init__()\n",
    "        self.beauty = 0  # Default\n",
    "\n",
    "# Flower class \n",
    "class Flower(Plant):\n",
    "    def __init__(self):\n",
    "        super().__init__()\n",
    "        self.beauty = 1  \n",
    "    \n",
    "    def grow(self):\n",
    "        super().grow()  # double the size first\n",
    "        self.beauty += 1  # increase beauty by 1\n",
    "        print(f\"Beauty increased to {self.beauty}\")\n",
    "\n",
    "# Dog class with talk method\n",
    "class Dog:\n",
    "    def talk(self):\n",
    "        print(\"bark\")\n",
    "\n",
    "# Pet class with location methods\n",
    "class Pet:\n",
    "    def __init__(self):\n",
    "        self.location = \"outside\"  \n",
    "    \n",
    "    def go_inside(self):\n",
    "        self.location = \"inside\"\n",
    "        print(\"Went inside\")\n",
    "    \n",
    "    def go_outside(self):\n",
    "        self.location = \"outside\"\n",
    "        print(\"Went outside\")\n",
    "\n",
    "# Beagle inherits from both Dog and Pet\n",
    "class Beagle(Dog, Pet):\n",
    "    def __init__(self):\n",
    "        Pet.__init__(self)  \n",
    "    \n",
    "    #talk method\n",
    "    def talk(self):\n",
    "        print(\"howl\")\n",
    "\n"
   ]
  }
 ],
 "metadata": {
  "kernelspec": {
   "display_name": "Python 3",
   "language": "python",
   "name": "python3"
  },
  "language_info": {
   "codemirror_mode": {
    "name": "ipython",
    "version": 3
   },
   "file_extension": ".py",
   "mimetype": "text/x-python",
   "name": "python",
   "nbconvert_exporter": "python",
   "pygments_lexer": "ipython3",
   "version": "3.12.1"
  }
 },
 "nbformat": 4,
 "nbformat_minor": 5
}
