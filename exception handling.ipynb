{
 "cells": [
  {
   "cell_type": "code",
   "execution_count": null,
   "id": "7727cf22",
   "metadata": {},
   "outputs": [],
   "source": [
    "while True:\n",
    "    try:    \n",
    "        num_1 = float(input(\"Enter your first number.\"))\n",
    "        break\n",
    "    except ValueError:\n",
    "        print(\"That is not a valid number, try again\")    \n",
    "\n",
    "while True:\n",
    "    try:\n",
    "        num_2 = float(input(\"Enter your second number\"))\n",
    "        break\n",
    "    except ValueError:\n",
    "        print(\"That is not a valid number, try again\") \n",
    "\n",
    "\n",
    "total = num_1 + num_2\n",
    "\n",
    "print(\"The sum of your numbers is\", total)\n",
    "\n"
   ]
  }
 ],
 "metadata": {
  "kernelspec": {
   "display_name": "Python 3",
   "language": "python",
   "name": "python3"
  },
  "language_info": {
   "codemirror_mode": {
    "name": "ipython",
    "version": 3
   },
   "file_extension": ".py",
   "mimetype": "text/x-python",
   "name": "python",
   "nbconvert_exporter": "python",
   "pygments_lexer": "ipython3",
   "version": "3.12.1"
  }
 },
 "nbformat": 4,
 "nbformat_minor": 5
}
